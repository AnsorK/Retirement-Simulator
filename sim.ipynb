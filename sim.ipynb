{
 "cells": [
  {
   "cell_type": "code",
   "execution_count": 12,
   "id": "c5166c5a",
   "metadata": {},
   "outputs": [],
   "source": [
    "import kagglehub\n",
    "import numpy as np\n",
    "import openpyxl\n",
    "import os\n",
    "import pandas as pd\n",
    "import shutil"
   ]
  },
  {
   "cell_type": "code",
   "execution_count": 16,
   "id": "c7c773df",
   "metadata": {},
   "outputs": [
    {
     "name": "stdout",
     "output_type": "stream",
     "text": [
      "$SPY data saved on this path: C:\\Users\\ansor\\.cache\\kagglehub\\datasets\\gkitchen\\s-and-p-500-spy\\versions\\37\n",
      "Copying to local...\n"
     ]
    }
   ],
   "source": [
    "path = kagglehub.dataset_download('gkitchen/s-and-p-500-spy')\n",
    "\n",
    "print(f'$SPY data saved on this path: {path}\\nCopying to local...')\n",
    "\n",
    "for file in os.listdir(path):\n",
    "    shutil.copy(os.path.join(path, file), '.')\n"
   ]
  },
  {
   "cell_type": "code",
   "execution_count": 39,
   "id": "db246ab0",
   "metadata": {},
   "outputs": [
    {
     "name": "stdout",
     "output_type": "stream",
     "text": [
      "Raw data:\n",
      "\n",
      "<class 'pandas.core.frame.DataFrame'>\n",
      "RangeIndex: 8150 entries, 0 to 8149\n",
      "Data columns (total 11 columns):\n",
      " #   Column   Non-Null Count  Dtype  \n",
      "---  ------   --------------  -----  \n",
      " 0   Date     8150 non-null   object \n",
      " 1   Open     8150 non-null   float64\n",
      " 2   High     8150 non-null   float64\n",
      " 3   Low      8150 non-null   float64\n",
      " 4   Close    8150 non-null   float64\n",
      " 5   Volume   8150 non-null   int64  \n",
      " 6   Day      8150 non-null   int64  \n",
      " 7   Weekday  8150 non-null   int64  \n",
      " 8   Week     8150 non-null   int64  \n",
      " 9   Month    8150 non-null   int64  \n",
      " 10  Year     8150 non-null   int64  \n",
      "dtypes: float64(4), int64(6), object(1)\n",
      "memory usage: 700.5+ KB\n"
     ]
    }
   ],
   "source": [
    "df = pd.read_csv('spy.csv')\n",
    "\n",
    "print('Raw data:\\n')\n",
    "df.info()\n"
   ]
  },
  {
   "cell_type": "code",
   "execution_count": 38,
   "id": "9698fd9b",
   "metadata": {},
   "outputs": [
    {
     "name": "stdout",
     "output_type": "stream",
     "text": [
      "\n",
      "Cleaning dataset...\n",
      "\n",
      "Last 5 Trading days:\n",
      "                 Close\n",
      "Date                  \n",
      "2025-06-09  599.679993\n",
      "2025-06-10  603.080017\n",
      "2025-06-11  601.359985\n",
      "2025-06-12  603.750000\n",
      "2025-06-13  597.000000\n"
     ]
    }
   ],
   "source": [
    "print('\\nCleaning dataset...\\n')\n",
    "df['Date'] = pd.to_datetime(df['Date'])\n",
    "df.set_index('Date', inplace=True)\n",
    "df = df[['Close']]\n",
    "\n",
    "print('Last 5 Trading days:')\n",
    "print(df.tail(5))"
   ]
  }
 ],
 "metadata": {
  "kernelspec": {
   "display_name": "venv",
   "language": "python",
   "name": "python3"
  },
  "language_info": {
   "codemirror_mode": {
    "name": "ipython",
    "version": 3
   },
   "file_extension": ".py",
   "mimetype": "text/x-python",
   "name": "python",
   "nbconvert_exporter": "python",
   "pygments_lexer": "ipython3",
   "version": "3.13.5"
  }
 },
 "nbformat": 4,
 "nbformat_minor": 5
}
