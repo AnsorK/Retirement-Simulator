{
 "cells": [
  {
   "cell_type": "code",
   "execution_count": 12,
   "id": "c5166c5a",
   "metadata": {},
   "outputs": [],
   "source": [
    "import kagglehub\n",
    "import numpy as np\n",
    "import openpyxl\n",
    "import os\n",
    "import pandas as pd\n",
    "import shutil"
   ]
  },
  {
   "cell_type": "code",
   "execution_count": null,
   "id": "c7c773df",
   "metadata": {},
   "outputs": [
    {
     "name": "stdout",
     "output_type": "stream",
     "text": [
      "$SPY data saved on this path: C:\\Users\\ansor\\.cache\\kagglehub\\datasets\\gkitchen\\s-and-p-500-spy\\versions\\37\n",
      "copying to local...\n"
     ]
    }
   ],
   "source": [
    "path = kagglehub.dataset_download('gkitchen/s-and-p-500-spy')\n",
    "\n",
    "print(f'$SPY data saved on this path: {path}\\nCopying to local...')\n",
    "\n",
    "for file in os.listdir(path):\n",
    "    shutil.copy(os.path.join(path, file), '.')\n"
   ]
  }
 ],
 "metadata": {
  "kernelspec": {
   "display_name": "venv",
   "language": "python",
   "name": "python3"
  },
  "language_info": {
   "codemirror_mode": {
    "name": "ipython",
    "version": 3
   },
   "file_extension": ".py",
   "mimetype": "text/x-python",
   "name": "python",
   "nbconvert_exporter": "python",
   "pygments_lexer": "ipython3",
   "version": "3.13.5"
  }
 },
 "nbformat": 4,
 "nbformat_minor": 5
}
