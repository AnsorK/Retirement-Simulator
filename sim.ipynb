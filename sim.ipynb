{
 "cells": [
  {
   "cell_type": "code",
   "execution_count": 12,
   "id": "c5166c5a",
   "metadata": {},
   "outputs": [],
   "source": [
    "import kagglehub\n",
    "import numpy as np\n",
    "import openpyxl\n",
    "import os\n",
    "import pandas as pd\n",
    "import shutil"
   ]
  },
  {
   "cell_type": "code",
   "execution_count": 16,
   "id": "c7c773df",
   "metadata": {},
   "outputs": [
    {
     "name": "stdout",
     "output_type": "stream",
     "text": [
      "$SPY data saved on this path: C:\\Users\\ansor\\.cache\\kagglehub\\datasets\\gkitchen\\s-and-p-500-spy\\versions\\37\n",
      "Copying to local...\n"
     ]
    }
   ],
   "source": [
    "path = kagglehub.dataset_download('gkitchen/s-and-p-500-spy')\n",
    "\n",
    "print(f'$SPY data saved on this path: {path}\\nCopying to local...')\n",
    "\n",
    "for file in os.listdir(path):\n",
    "    shutil.copy(os.path.join(path, file), '.')\n"
   ]
  },
  {
   "cell_type": "code",
   "execution_count": 50,
   "id": "db246ab0",
   "metadata": {},
   "outputs": [
    {
     "name": "stdout",
     "output_type": "stream",
     "text": [
      "Raw data:\n",
      "\n",
      "<class 'pandas.core.frame.DataFrame'>\n",
      "RangeIndex: 8150 entries, 0 to 8149\n",
      "Data columns (total 11 columns):\n",
      " #   Column   Non-Null Count  Dtype  \n",
      "---  ------   --------------  -----  \n",
      " 0   Date     8150 non-null   object \n",
      " 1   Open     8150 non-null   float64\n",
      " 2   High     8150 non-null   float64\n",
      " 3   Low      8150 non-null   float64\n",
      " 4   Close    8150 non-null   float64\n",
      " 5   Volume   8150 non-null   int64  \n",
      " 6   Day      8150 non-null   int64  \n",
      " 7   Weekday  8150 non-null   int64  \n",
      " 8   Week     8150 non-null   int64  \n",
      " 9   Month    8150 non-null   int64  \n",
      " 10  Year     8150 non-null   int64  \n",
      "dtypes: float64(4), int64(6), object(1)\n",
      "memory usage: 700.5+ KB\n"
     ]
    }
   ],
   "source": [
    "df = pd.read_csv('spy.csv')\n",
    "\n",
    "print('Raw data:\\n')\n",
    "df.info()\n"
   ]
  },
  {
   "cell_type": "code",
   "execution_count": 51,
   "id": "9698fd9b",
   "metadata": {},
   "outputs": [
    {
     "name": "stdout",
     "output_type": "stream",
     "text": [
      "\n",
      "Cleaning dataset...\n",
      "\n",
      "Last 5 Trading days:\n",
      "                 Close\n",
      "Date                  \n",
      "2025-06-09  599.679993\n",
      "2025-06-10  603.080017\n",
      "2025-06-11  601.359985\n",
      "2025-06-12  603.750000\n",
      "2025-06-13  597.000000\n"
     ]
    }
   ],
   "source": [
    "print('\\nCleaning dataset...\\n')\n",
    "df['Date'] = pd.to_datetime(df['Date'])\n",
    "df.set_index('Date', inplace=True)\n",
    "df = df[['Close']]\n",
    "\n",
    "print('Last 5 Trading days:')\n",
    "print(df.tail())"
   ]
  },
  {
   "cell_type": "code",
   "execution_count": 63,
   "id": "0dd7c6a2",
   "metadata": {},
   "outputs": [
    {
     "name": "stdout",
     "output_type": "stream",
     "text": [
      "Closing prices for the year:\n",
      "           Close\n",
      "Date            \n",
      "2020  352.047577\n",
      "2021  453.186493\n",
      "2022  370.818176\n",
      "2023  467.882782\n",
      "2024  584.322266\n",
      "2025  597.000000\n",
      "\n",
      "Percentage change YOY:\n",
      "          Close\n",
      "Date           \n",
      "2020        NaN\n",
      "2021  28.728764\n",
      "2022 -18.175369\n",
      "2023  26.175795\n",
      "2024  24.886465\n",
      "2025   2.169648\n"
     ]
    }
   ],
   "source": [
    "start_date, end_date = '2020-01-01', '2025-12-31'\n",
    "\n",
    "df_filtered = df.loc[start_date:end_date]\n",
    "df_year_end = df_filtered.groupby(df_filtered.index.year)['Close'].last()\n",
    "print('Closing prices for the year:')\n",
    "print(f'{df_year_end.to_frame().head(len(df_year_end))}\\n')\n",
    "\n",
    "df_yoy_change = df_year_end.pct_change() * 100\n",
    "print('Percentage change YOY:')\n",
    "print(f'{df_yoy_change.to_frame().head(len(df_yoy_change))}')"
   ]
  },
  {
   "cell_type": "code",
   "execution_count": null,
   "id": "165b2004",
   "metadata": {},
   "outputs": [
    {
     "name": "stdout",
     "output_type": "stream",
     "text": [
      "Mean YOY gain: 12.76%\n",
      "Standard deviation of YOY gains: 20.32%\n",
      "\n",
      "Time for Gaussian Random Walk!\n"
     ]
    }
   ],
   "source": [
    "mean_yoy, std_yoy = df_yoy_change.mean(), df_yoy_change.std()\n",
    "print(f'Mean YOY gain: {mean_yoy:.2f}%')\n",
    "print(f'Standard deviation of YOY gains: {std_yoy:.2f}%\\n')\n",
    "\n",
    "print('Time for Gaussian Random Walk!')\n"
   ]
  }
 ],
 "metadata": {
  "kernelspec": {
   "display_name": "venv",
   "language": "python",
   "name": "python3"
  },
  "language_info": {
   "codemirror_mode": {
    "name": "ipython",
    "version": 3
   },
   "file_extension": ".py",
   "mimetype": "text/x-python",
   "name": "python",
   "nbconvert_exporter": "python",
   "pygments_lexer": "ipython3",
   "version": "3.13.5"
  }
 },
 "nbformat": 4,
 "nbformat_minor": 5
}
